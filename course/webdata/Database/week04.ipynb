{
 "cells": [
  {
   "cell_type": "code",
   "execution_count": 43,
   "metadata": {},
   "outputs": [],
   "source": [
    "import sqlalchemy as db\n",
    "from sqlalchemy import Table,Column\n",
    "import json\n"
   ]
  },
  {
   "cell_type": "code",
   "execution_count": 44,
   "metadata": {},
   "outputs": [],
   "source": [
    "engine = db.create_engine('sqlite:///week03.db')\n",
    "conn = engine.connect()\n",
    "metadata = db.MetaData()\n",
    "\n",
    "User = Table('User',metadata,\n",
    "Column('id',db.Integer(),unique=True,autoincrement=True,primary_key=True,nullable=False),\n",
    "Column('name',db.String(128),unique=True)\n",
    ")\n",
    "User.drop(engine,checkfirst=True)\n",
    "User.create(engine,checkfirst=True)\n",
    "\n",
    "Course = Table('Course',metadata,\n",
    "Column('id',db.Integer(),unique=True,autoincrement=True,primary_key=True,nullable=False),\n",
    "Column('title',db.String(128),unique=True)\n",
    ")\n",
    "Course.drop(engine,checkfirst=True)\n",
    "Course.create(engine,checkfirst=True)\n",
    "\n",
    "Member = Table('Member',metadata,\n",
    "Column('user_id',db.Integer()),\n",
    "Column('course_id',db.Integer()),\n",
    "Column('role',db.Integer()),\n",
    "db.PrimaryKeyConstraint('user_id','course_id')\n",
    ")\n",
    "Member.drop(engine,checkfirst=True)\n",
    "Member.create(engine,checkfirst=True)\n"
   ]
  },
  {
   "cell_type": "code",
   "execution_count": 45,
   "metadata": {},
   "outputs": [
    {
     "name": "stdout",
     "output_type": "stream",
     "text": [
      "Eljon\n"
     ]
    }
   ],
   "source": [
    "## reading json file\n",
    "\n",
    "fname = 'roster_data.json'\n",
    "fh = open(fname)\n",
    "jsonList = json.load(fh)\n",
    "print(jsonList[0][0])"
   ]
  },
  {
   "cell_type": "code",
   "execution_count": 46,
   "metadata": {},
   "outputs": [],
   "source": [
    "for listData in jsonList:\n",
    "\n",
    "    try:\n",
    "        query = db.insert(User).values(name = listData[0])\n",
    "        res = conn.execute(query)\n",
    "        query = db.select(User.columns.id).where(User.columns.name == listData[0])\n",
    "        res = conn.execute(query).all()\n",
    "        user_id = res[0][0]\n",
    "    except:\n",
    "        None\n",
    "        \n",
    "    try:\n",
    "        query = db.insert(Course).values(title = listData[1])\n",
    "        res = conn.execute(query)\n",
    "        query = db.select(Course.columns.id).where(Course.columns.title == listData[1])\n",
    "        res = conn.execute(query).all()\n",
    "        course_id = res[0][0]\n",
    "    except:\n",
    "        None\n",
    "        \n",
    "    try:\n",
    "        query = db.insert(Member).values(user_id = user_id,course_id=course_id,role = listData[2])\n",
    "        res = conn.execute(query)\n",
    "    except:\n",
    "        None"
   ]
  }
 ],
 "metadata": {
  "interpreter": {
   "hash": "397704579725e15f5c7cb49fe5f0341eb7531c82d19f2c29d197e8b64ab5776b"
  },
  "kernelspec": {
   "display_name": "Python 3.9.6 64-bit",
   "language": "python",
   "name": "python3"
  },
  "language_info": {
   "codemirror_mode": {
    "name": "ipython",
    "version": 3
   },
   "file_extension": ".py",
   "mimetype": "text/x-python",
   "name": "python",
   "nbconvert_exporter": "python",
   "pygments_lexer": "ipython3",
   "version": "3.9.6"
  },
  "orig_nbformat": 4
 },
 "nbformat": 4,
 "nbformat_minor": 2
}
