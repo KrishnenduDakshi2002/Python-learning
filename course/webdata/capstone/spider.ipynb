{
 "cells": [
  {
   "cell_type": "code",
   "execution_count": 1,
   "metadata": {},
   "outputs": [],
   "source": [
    "import sqlalchemy as db\n",
    "from sqlalchemy import Table,Column, UniqueConstraint, column, engine,inspect,Integer,Text,REAL,insert, null,select,delete,update\n",
    "from bs4 import BeautifulSoup\n",
    "import requests\n"
   ]
  },
  {
   "cell_type": "code",
   "execution_count": 2,
   "metadata": {},
   "outputs": [],
   "source": [
    "\n",
    "engine = db.create_engine(\"sqlite:///test.db\")\n",
    "conn = engine.connect()\n",
    "metadata = db.MetaData()\n",
    "\n",
    "\n",
    "pages = Table('pages',metadata,\n",
    "Column('id',Integer(),primary_key=True,autoincrement=True),\n",
    "Column('url',Text,unique=True),\n",
    "Column('html',Text),\n",
    "Column('error',Integer()),\n",
    "Column('old_rank',REAL),\n",
    "Column('new_rank',REAL)\n",
    ")\n",
    "pages.drop(engine,checkfirst=True)  # if not exist then will create\n",
    "pages.create(engine,checkfirst=True)  # if not exist then will create\n"
   ]
  },
  {
   "cell_type": "code",
   "execution_count": null,
   "metadata": {},
   "outputs": [],
   "source": []
  }
 ],
 "metadata": {
  "interpreter": {
   "hash": "397704579725e15f5c7cb49fe5f0341eb7531c82d19f2c29d197e8b64ab5776b"
  },
  "kernelspec": {
   "display_name": "Python 3.9.6 64-bit",
   "language": "python",
   "name": "python3"
  },
  "language_info": {
   "codemirror_mode": {
    "name": "ipython",
    "version": 3
   },
   "file_extension": ".py",
   "mimetype": "text/x-python",
   "name": "python",
   "nbconvert_exporter": "python",
   "pygments_lexer": "ipython3",
   "version": "3.9.6"
  },
  "orig_nbformat": 4
 },
 "nbformat": 4,
 "nbformat_minor": 2
}
