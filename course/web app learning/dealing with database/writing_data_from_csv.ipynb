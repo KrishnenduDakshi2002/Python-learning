{
 "cells": [
  {
   "cell_type": "code",
   "execution_count": 55,
   "metadata": {},
   "outputs": [],
   "source": [
    "import sqlalchemy as db\n",
    "import pandas as pd\n",
    "import sqlite3\n",
    "import csv\n"
   ]
  },
  {
   "cell_type": "code",
   "execution_count": 56,
   "metadata": {},
   "outputs": [],
   "source": [
    "engine = db.create_engine('sqlite:///Students.db') \n",
    "conn = engine.connect()\n",
    "meta = db.MetaData()\n",
    "\n",
    "meta.create_all(engine)\n",
    "\n",
    "# database is created\n"
   ]
  },
  {
   "cell_type": "code",
   "execution_count": 57,
   "metadata": {},
   "outputs": [
    {
     "name": "stdout",
     "output_type": "stream",
     "text": [
      "     Id               Name    phone_num                    email_id  \\\n",
      "0  #123  krishnendu Dakshi  78234898172           kdakshi@gmail.com   \n",
      "1  #124       Rohit sharma  12412341324     rohitsharma34@gmail.com   \n",
      "2  #125     Sudipta Sharma  12341241134      sudipta123@outlook.com   \n",
      "3  #128          Rahul Das  32412341341      Rahuldas2002@yahoo.com   \n",
      "4  #126       sunny Dakshi  41234134413  sunnydakshi2021@icloud.com   \n",
      "5  #129          Puja saha  43241232434       pujaSaha190@gmail.com   \n",
      "6  #130      Puja karmakat   2342421132    pujaKarmakar@hotmail.com   \n",
      "\n",
      "                                 address  active  \\\n",
      "0                   S.R.B road,maharasta       1   \n",
      "1                 J.D.B street,Rajasthan       1   \n",
      "2                     parkar collony,U.P       0   \n",
      "3           Maher bazar road,West Bengal       0   \n",
      "4  chunuripara,sri nagar janata road,W.B       1   \n",
      "5            Mahatma gandhi road,kolkata       0   \n",
      "6            deshbandhu park,kolkata,W.B       0   \n",
      "\n",
      "                             college  \n",
      "0  kalyani Govt. engineering college  \n",
      "1  kalyani Govt. engineering college  \n",
      "2               mahato govt. college  \n",
      "3  kalyani Govt. engineering college  \n",
      "4                jadavpur university  \n",
      "5               mahato govt. college  \n",
      "6  kalyani Govt. engineering college  \n"
     ]
    }
   ],
   "source": [
    "data = pd.read_csv('/Users/krishnendudakshi/python programming/course/web app learning/students.csv')\n",
    "df = pd.DataFrame(data)\n",
    "print(df)"
   ]
  },
  {
   "cell_type": "code",
   "execution_count": 58,
   "metadata": {},
   "outputs": [
    {
     "name": "stdout",
     "output_type": "stream",
     "text": [
      "Id\n",
      "Name\n",
      "phone_num\n",
      "email_id\n",
      "address\n",
      "active\n",
      "college\n"
     ]
    }
   ],
   "source": [
    "for row in df:\n",
    "    print(row)"
   ]
  },
  {
   "cell_type": "code",
   "execution_count": 59,
   "metadata": {},
   "outputs": [
    {
     "name": "stdout",
     "output_type": "stream",
     "text": [
      "     Id               Name\n",
      "0  #123  krishnendu Dakshi\n",
      "1  #124       Rohit sharma\n",
      "2  #125     Sudipta Sharma\n",
      "3  #128          Rahul Das\n",
      "4  #126       sunny Dakshi\n",
      "5  #129          Puja saha\n",
      "6  #130      Puja karmakat\n"
     ]
    }
   ],
   "source": [
    "print(df[['Id','Name']])"
   ]
  },
  {
   "cell_type": "code",
   "execution_count": 60,
   "metadata": {},
   "outputs": [
    {
     "name": "stdout",
     "output_type": "stream",
     "text": [
      "     Id               Name\n",
      "0  #123  krishnendu Dakshi\n",
      "1  #124       Rohit sharma\n",
      "2  #125     Sudipta Sharma\n",
      "3  #128          Rahul Das\n",
      "4  #126       sunny Dakshi\n",
      "5  #129          Puja saha\n",
      "6  #130      Puja karmakat\n"
     ]
    }
   ],
   "source": [
    "print(df[['Id','Name']])"
   ]
  },
  {
   "cell_type": "code",
   "execution_count": null,
   "metadata": {},
   "outputs": [],
   "source": []
  },
  {
   "cell_type": "code",
   "execution_count": 63,
   "metadata": {},
   "outputs": [],
   "source": [
    "conn = sqlite3.connect('Students.db')\n",
    "curr = conn.cursor()\n",
    "\n",
    "fh = open('students.csv')\n",
    "rows = csv.reader(fh)\n",
    "# this line will read all data from the row and write in table\n",
    "\n",
    "# curr.executemany(\"INSERT INTO Student_details VALUES (? , ?,?,?,?,?,?)\", rows)\n",
    "\n",
    "conn.commit()\n"
   ]
  },
  {
   "cell_type": "code",
   "execution_count": 73,
   "metadata": {},
   "outputs": [
    {
     "name": "stdout",
     "output_type": "stream",
     "text": [
      "['Student_details', 'student']\n"
     ]
    }
   ],
   "source": [
    "# when we wnat to access to an existing database\n",
    "\n",
    "from sqlalchemy import inspect\n",
    "\n",
    "engine = db.create_engine('sqlite:///Students.db')\n",
    "# print(engine.table_names()) # this will give all the tables currently present in the database\n",
    "# [NOTE]: please don't use  engine.table_names() , it will be depreated in future\n",
    "\n",
    "# so we are using inspect\n",
    "\n",
    "Inspector = inspect(engine)\n",
    "print(Inspector.get_table_names())\n"
   ]
  },
  {
   "cell_type": "code",
   "execution_count": 75,
   "metadata": {},
   "outputs": [
    {
     "name": "stdout",
     "output_type": "stream",
     "text": [
      "Table('Student_details', MetaData(), Column('Id', NullType(), table=<Student_details>, primary_key=True, nullable=False), Column('Name', TEXT(), table=<Student_details>, nullable=False), Column('phone_num', NullType(), table=<Student_details>, nullable=False), Column('email_id', TEXT(), table=<Student_details>, nullable=False), Column('address', TEXT(), table=<Student_details>, nullable=False), Column('active', NullType(), table=<Student_details>, nullable=False), Column('college', TEXT(), table=<Student_details>, nullable=False), schema=None)\n"
     ]
    }
   ],
   "source": [
    "#https://youtu.be/i35OSGXt7wk\n",
    "\n",
    "# once we now on which we want work\n",
    "\n",
    "# we will use Reflection\n",
    "\n",
    "# we want to work on Student_details\n",
    "from sqlalchemy import Table, MetaData\n",
    "metadata = MetaData()\n",
    "Student_details = Table('Student_details',metadata, autoload=True,autoload_with=engine)\n",
    "\n",
    "# print(repr(Student_details))    # this will print details of the table\n",
    "\n",
    "\n",
    "\n",
    "\n",
    "# Now we can insert or delete into the table\n",
    "\n"
   ]
  },
  {
   "cell_type": "code",
   "execution_count": 76,
   "metadata": {},
   "outputs": [
    {
     "data": {
      "text/plain": [
       "<sqlalchemy.engine.cursor.LegacyCursorResult at 0x11cc6b970>"
      ]
     },
     "execution_count": 76,
     "metadata": {},
     "output_type": "execute_result"
    }
   ],
   "source": [
    "\n",
    "# these segment of code will delete that extra row we don't need after getting data from the .csv file\n",
    "\n",
    "query = db.delete(Student_details).where(Student_details.columns.Id == 'Id')\n",
    "conn.execute(query)"
   ]
  },
  {
   "cell_type": "code",
   "execution_count": 79,
   "metadata": {},
   "outputs": [
    {
     "name": "stdout",
     "output_type": "stream",
     "text": [
      "['Id', 'Name', 'phone_num', 'email_id', 'address', 'active', 'college']\n",
      "['#123', 'krishnendu Dakshi', '78234898172', 'kdakshi@gmail.com', 'S.R.B road,maharasta', '1', 'kalyani Govt. engineering college']\n",
      "['#124', 'Rohit sharma', '12412341324', 'rohitsharma34@gmail.com', 'J.D.B street,Rajasthan', '1', 'kalyani Govt. engineering college']\n",
      "['#125', 'Sudipta Sharma', '12341241134', 'sudipta123@outlook.com', 'parkar collony,U.P', '0', 'mahato govt. college']\n",
      "['#128', 'Rahul Das', '32412341341', 'Rahuldas2002@yahoo.com', 'Maher bazar road,West Bengal', '0', 'kalyani Govt. engineering college']\n",
      "['#126', 'sunny Dakshi', '41234134413', 'sunnydakshi2021@icloud.com', 'chunuripara,sri nagar janata road,W.B', '1', 'jadavpur university']\n",
      "['#129', 'Puja saha', '43241232434', 'pujaSaha190@gmail.com', 'Mahatma gandhi road,kolkata', '0', 'mahato govt. college']\n",
      "['#130', 'Puja karmakat', '2342421132', 'pujaKarmakar@hotmail.com', 'deshbandhu park,kolkata,W.B', '0', 'kalyani Govt. engineering college']\n"
     ]
    }
   ],
   "source": [
    "fh = open('students.csv')\n",
    "rows = csv.reader(fh)\n",
    "\n",
    "for line in rows:\n",
    "    print(line)\n",
    "    \n",
    "    \n",
    "# executemany() will read all these list stored in rows"
   ]
  }
 ],
 "metadata": {
  "interpreter": {
   "hash": "397704579725e15f5c7cb49fe5f0341eb7531c82d19f2c29d197e8b64ab5776b"
  },
  "kernelspec": {
   "display_name": "Python 3.9.6 64-bit",
   "language": "python",
   "name": "python3"
  },
  "language_info": {
   "codemirror_mode": {
    "name": "ipython",
    "version": 3
   },
   "file_extension": ".py",
   "mimetype": "text/x-python",
   "name": "python",
   "nbconvert_exporter": "python",
   "pygments_lexer": "ipython3",
   "version": "3.9.6"
  },
  "orig_nbformat": 4
 },
 "nbformat": 4,
 "nbformat_minor": 2
}
