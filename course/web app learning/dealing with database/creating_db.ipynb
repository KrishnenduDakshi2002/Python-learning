{
 "cells": [
  {
   "cell_type": "code",
   "execution_count": 3,
   "metadata": {},
   "outputs": [],
   "source": [
    "\n",
    "from flask_sqlalchemy import SQLAlchemy \n",
    "import sqlalchemy as db\n",
    "import pandas as pd"
   ]
  },
  {
   "cell_type": "code",
   "execution_count": 7,
   "metadata": {},
   "outputs": [],
   "source": [
    "#https://www.tutorialspoint.com/sqlalchemy/sqlalchemy_core_creating_table.htm\n",
    "#https://flask-sqlalchemy.palletsprojects.com/en/2.x/quickstart/\n",
    "#https://docs.sqlalchemy.org/en/14/core/engines.html#postgresql\n",
    "#Most Important\n",
    "#https://towardsdatascience.com/sqlalchemy-python-tutorial-79a577141a91\n",
    "#https://realpython.com/python-sqlite-sqlalchemy/\n",
    "#https://docs.sqlalchemy.org/en/14/core/metadata.html"
   ]
  },
  {
   "cell_type": "code",
   "execution_count": 4,
   "metadata": {},
   "outputs": [],
   "source": [
    "\n",
    "# creating database\n",
    "\n",
    "engine = db.create_engine('sqlite:///Employ.db')\n",
    "conn = engine.connect()\n",
    "meta = db.MetaData()\n",
    "\n",
    "emp = db.Table('emp', meta,\n",
    "db.Column('Id', db.Integer()),\n",
    "db.Column('name', db.String(255), nullable=False),\n",
    "db.Column('salary', db.Float(), default=100.0),\n",
    "db.Column('active', db.Boolean(), default=True)\n",
    ")\n",
    "\n",
    "meta.create_all(engine) #Creates the table\n",
    "\n",
    "\n"
   ]
  },
  {
   "cell_type": "code",
   "execution_count": 6,
   "metadata": {},
   "outputs": [],
   "source": [
    "#Inserting element one by one\n",
    "query = db.insert(emp).values(Id = 1, name = 'krishnendu',salary = 66000.34,active= True)\n",
    "ResultProxy = conn.execute(query)"
   ]
  },
  {
   "cell_type": "code",
   "execution_count": 8,
   "metadata": {},
   "outputs": [],
   "source": [
    "#insering elements in a group\n",
    "query = db.insert(emp)\n",
    "value_list = [{'Id':2,'name':'Rohit Sharma','salary': 4534.290,'active':False},\n",
    "              {'Id':3,'name':'Samridhi Barman','salary': 4999.33,'active':False},\n",
    "              {'Id':4,'name':'sankar Pandey','salary': 290129.21,'active':False}]\n",
    "ResultProxy = conn.execute(query,value_list)"
   ]
  },
  {
   "cell_type": "code",
   "execution_count": 28,
   "metadata": {},
   "outputs": [
    {
     "data": {
      "text/html": [
       "<div>\n",
       "<style scoped>\n",
       "    .dataframe tbody tr th:only-of-type {\n",
       "        vertical-align: middle;\n",
       "    }\n",
       "\n",
       "    .dataframe tbody tr th {\n",
       "        vertical-align: top;\n",
       "    }\n",
       "\n",
       "    .dataframe thead th {\n",
       "        text-align: right;\n",
       "    }\n",
       "</style>\n",
       "<table border=\"1\" class=\"dataframe\">\n",
       "  <thead>\n",
       "    <tr style=\"text-align: right;\">\n",
       "      <th></th>\n",
       "      <th>Id</th>\n",
       "      <th>name</th>\n",
       "      <th>salary</th>\n",
       "      <th>active</th>\n",
       "    </tr>\n",
       "  </thead>\n",
       "  <tbody>\n",
       "    <tr>\n",
       "      <th>0</th>\n",
       "      <td>1</td>\n",
       "      <td>krishnendu</td>\n",
       "      <td>66000.3400</td>\n",
       "      <td>True</td>\n",
       "    </tr>\n",
       "    <tr>\n",
       "      <th>1</th>\n",
       "      <td>3</td>\n",
       "      <td>Samridhi Barman</td>\n",
       "      <td>122000.3453</td>\n",
       "      <td>False</td>\n",
       "    </tr>\n",
       "    <tr>\n",
       "      <th>2</th>\n",
       "      <td>4</td>\n",
       "      <td>sankar Pandey</td>\n",
       "      <td>290129.2100</td>\n",
       "      <td>False</td>\n",
       "    </tr>\n",
       "  </tbody>\n",
       "</table>\n",
       "</div>"
      ],
      "text/plain": [
       "   Id             name       salary  active\n",
       "0   1       krishnendu   66000.3400    True\n",
       "1   3  Samridhi Barman  122000.3453   False\n",
       "2   4    sankar Pandey  290129.2100   False"
      ]
     },
     "execution_count": 28,
     "metadata": {},
     "output_type": "execute_result"
    }
   ],
   "source": [
    "# printing results using pandas\n",
    "\n",
    "results = conn.execute(db.select([emp])).fetchall()  # fetchall() gives list to work with\n",
    "df = pd.DataFrame(results)\n",
    "df.columns = results[0].keys()\n",
    "df.head(4)\n"
   ]
  },
  {
   "cell_type": "code",
   "execution_count": 25,
   "metadata": {},
   "outputs": [],
   "source": [
    "\n",
    "# updating values in database\n",
    "\n",
    "query = db.update(emp).values(salary = 122000.3453).where(emp.columns.Id==3)\n",
    "result =conn.execute(query)\n",
    "\n",
    "# after updating you can run the above shell to view results"
   ]
  },
  {
   "cell_type": "code",
   "execution_count": 29,
   "metadata": {},
   "outputs": [
    {
     "data": {
      "text/plain": [
       "<sqlalchemy.engine.cursor.LegacyCursorResult at 0x11781abe0>"
      ]
     },
     "execution_count": 29,
     "metadata": {},
     "output_type": "execute_result"
    }
   ],
   "source": [
    "# deleting values \n",
    "\n",
    "query = db.delete(emp).where(emp.columns.salary  < 10000.00) # after this operation rahul will be deleted\n",
    "conn.execute(query)"
   ]
  },
  {
   "cell_type": "code",
   "execution_count": 35,
   "metadata": {},
   "outputs": [
    {
     "name": "stdout",
     "output_type": "stream",
     "text": [
      "[(1, 'krishnendu', 66000.34, True), (3, 'Samridhi Barman', 122000.3453, False), (4, 'sankar Pandey', 290129.21, False)]\n"
     ]
    }
   ],
   "source": [
    "query = db.select(emp)\n",
    "result = conn.execute(query).fetchall()\n",
    "print(result)\n"
   ]
  },
  {
   "cell_type": "code",
   "execution_count": 36,
   "metadata": {},
   "outputs": [
    {
     "data": {
      "text/plain": [
       "Table('emp', MetaData(), Column('Id', Integer(), table=<emp>), Column('name', String(length=255), table=<emp>, nullable=False), Column('salary', Float(), table=<emp>, default=ColumnDefault(100.0)), Column('active', Boolean(), table=<emp>, default=ColumnDefault(True)), schema=None)"
      ]
     },
     "execution_count": 36,
     "metadata": {},
     "output_type": "execute_result"
    }
   ],
   "source": [
    "# exploring metadata\n",
    "\n",
    "meta.tables['emp']\n"
   ]
  },
  {
   "cell_type": "code",
   "execution_count": 39,
   "metadata": {},
   "outputs": [
    {
     "name": "stdout",
     "output_type": "stream",
     "text": [
      "My name is judo\n"
     ]
    },
    {
     "data": {
      "text/plain": [
       "<dog  'judo'>"
      ]
     },
     "execution_count": 39,
     "metadata": {},
     "output_type": "execute_result"
    }
   ],
   "source": [
    "class dog(object):\n",
    "    \n",
    "    name =\"\"\n",
    "    def __init__(self,name) -> None:\n",
    "        self.name = name\n",
    "        \n",
    "    def printdetails(self):\n",
    "        print(\"My name is {self.name}\".format(self = self))\n",
    "\n",
    "    def __repr__(self) -> str:\n",
    "        return '<dog  %r>' %self.name\n",
    "\n",
    "mydog = dog('judo')\n",
    "mydog.printdetails()\n",
    "mydog  # this will call __repr__   known as (dunder)"
   ]
  }
 ],
 "metadata": {
  "interpreter": {
   "hash": "397704579725e15f5c7cb49fe5f0341eb7531c82d19f2c29d197e8b64ab5776b"
  },
  "kernelspec": {
   "display_name": "Python 3.9.6 64-bit",
   "language": "python",
   "name": "python3"
  },
  "language_info": {
   "codemirror_mode": {
    "name": "ipython",
    "version": 3
   },
   "file_extension": ".py",
   "mimetype": "text/x-python",
   "name": "python",
   "nbconvert_exporter": "python",
   "pygments_lexer": "ipython3",
   "version": "3.9.6"
  },
  "orig_nbformat": 4
 },
 "nbformat": 4,
 "nbformat_minor": 2
}
