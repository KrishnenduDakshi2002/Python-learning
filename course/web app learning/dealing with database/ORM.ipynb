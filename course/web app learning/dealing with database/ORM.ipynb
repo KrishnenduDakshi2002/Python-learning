{
 "cells": [
  {
   "cell_type": "code",
   "execution_count": 145,
   "metadata": {},
   "outputs": [],
   "source": [
    "\n",
    "import sqlalchemy as db\n",
    "import pandas as pd\n",
    "from sqlalchemy import Table,Column,insert,select,desc,update\n",
    "from sqlalchemy.sql.expression import select,func\n",
    "from sqlalchemy.orm import Session\n"
   ]
  },
  {
   "cell_type": "code",
   "execution_count": 105,
   "metadata": {},
   "outputs": [],
   "source": [
    " \n",
    "engine = db.create_engine('sqlite:///orm.db')\n",
    "conn = engine.connect()\n",
    "metadata = db.MetaData()\n",
    "\n",
    "Track = Table('Track',metadata,\n",
    "Column('id',db.Integer(),autoincrement=True,primary_key=True,unique=True,nullable=True),\n",
    "Column('title',db.String(128),unique=True,nullable=True),\n",
    "Column('album_id',db.Integer()))\n",
    "\n",
    "Track.drop(engine,checkfirst=True)\n",
    "Track.create(engine,checkfirst=True)\n",
    "\n",
    "Album = Table('Album',metadata,\n",
    "Column('id',db.Integer(),autoincrement=True,primary_key=True,unique=True,nullable=True),\n",
    "Column('name',db.Text(),unique=True),\n",
    "Column('artist_id',db.Integer(),nullable=True))\n",
    "\n",
    "Album.drop(engine,checkfirst=True)\n",
    "Album.create(engine,checkfirst=True)\n",
    "\n",
    "Artist = Table('Artist',metadata,\n",
    "Column('id',db.Integer(),primary_key=True,autoincrement=True,nullable=True),\n",
    "Column('Artist_name',db.Text(),unique=True,nullable=True))\n",
    "\n",
    "Artist.drop(engine,checkfirst=True)\n",
    "Artist.create(engine,checkfirst=True)\n",
    "\n",
    "# Inserting values to the data bases\n",
    "\n",
    "query = insert(Album)\n",
    "val = [{'name':'Album01','artist_id':'1'},{'name':'Album02','artist_id':'2'},{'name':'Album03','artist_id':'1'},{'name':'Album04','artist_id':'2'}]\n",
    "r = conn.execute(query,val)\n",
    "\n",
    "query = insert(Track)\n",
    "val = [{'title':'Title01','album_id':'1'},{'title':'Title02','album_id':'1'},{'title':'Title03','album_id':'4'},{'title':'Title04','album_id':'2'}\n",
    "       ,{'title':'Title05','album_id':'3'},{'title':'Title06','album_id':'2'},{'title':'Title07','album_id':'4'},{'title':'Title08','album_id':'1'}]\n",
    "r = conn.execute(query,val)\n",
    "\n",
    "query = insert(Artist)\n",
    "val = [{'Artist_name':'name 1'},{'Artist_name':'name 2'}]\n",
    "r = conn.execute(query,val)\n",
    "\n"
   ]
  },
  {
   "cell_type": "code",
   "execution_count": 106,
   "metadata": {},
   "outputs": [
    {
     "name": "stdout",
     "output_type": "stream",
     "text": [
      "('Title01', 'Album01')\n",
      "('Title02', 'Album01')\n",
      "('Title03', 'Album04')\n",
      "('Title04', 'Album02')\n",
      "('Title05', 'Album03')\n",
      "('Title06', 'Album02')\n",
      "('Title07', 'Album04')\n",
      "('Title08', 'Album01')\n"
     ]
    }
   ],
   "source": [
    "query = select(Track.columns.title,Album.columns.name).join(Album,Track.columns.album_id==Album.columns.id)\n",
    "res = Session(bind=engine).execute(query)\n",
    "\n",
    "for i in res:\n",
    "    print(i)"
   ]
  },
  {
   "cell_type": "code",
   "execution_count": 107,
   "metadata": {},
   "outputs": [
    {
     "data": {
      "text/plain": [
       "('Title08', 'Album01', 'name 1')"
      ]
     },
     "execution_count": 107,
     "metadata": {},
     "output_type": "execute_result"
    }
   ],
   "source": [
    "# ordering by descending order\n",
    "query = select(Track.columns.title,Album.columns.name,Artist.columns.Artist_name).\\\n",
    "    order_by(desc(Track.columns.id)).join(Album,Track.columns.album_id==Album.columns.id).join(Artist,Album.columns.artist_id==Artist.columns.id)\n",
    "res = Session(bind=engine).execute(query)   # we can add \\ when we don't want the line to be lenghty\n",
    "res.fetchone() # fetchone / fetchall() print all the stuffs no need to print those separately\n",
    "# for row in res:\n",
    "#     print(row)"
   ]
  },
  {
   "cell_type": "code",
   "execution_count": 108,
   "metadata": {},
   "outputs": [
    {
     "name": "stdout",
     "output_type": "stream",
     "text": [
      "('Title07', 'Album04', 'name 2')\n"
     ]
    }
   ],
   "source": [
    "\n",
    "# ordering rows randomly  # limit\n",
    "\n",
    "query = select(Track.columns.title,Album.columns.name,Artist.columns.Artist_name).\\\n",
    "    order_by(func.random()).limit(1).join(Album,Track.columns.album_id==Album.columns.id).join(Artist,Album.columns.artist_id==Artist.columns.id)\n",
    "res = Session(bind=engine).execute(query)   # we can add \\ when we don't want the line to be lenghty\n",
    "\n",
    "# res.fetchone()    # fetchone / fetchall() print all the stuffs no need to print those separately\n",
    "\n",
    "\n",
    "for row in res:\n",
    "    print(row)"
   ]
  },
  {
   "cell_type": "code",
   "execution_count": 144,
   "metadata": {},
   "outputs": [
    {
     "name": "stdout",
     "output_type": "stream",
     "text": [
      "9 title 09\n"
     ]
    }
   ],
   "source": [
    "# res = conn.execute(insert(Track).values(title = 'title 09'))\n",
    "\n",
    "\n",
    "\n",
    "# how to find rows where column component is NULL\n",
    "\n",
    "res = Session(bind=engine).execute(select(Track).where(Track.columns.album_id == None))\n",
    "item = res.fetchall()[0] # you have to store res.fetchall() as list or fetchone()  as tuple\n",
    "print(item[0],item[1])"
   ]
  },
  {
   "cell_type": "code",
   "execution_count": 110,
   "metadata": {},
   "outputs": [
    {
     "data": {
      "text/plain": [
       "'Title08'"
      ]
     },
     "execution_count": 110,
     "metadata": {},
     "output_type": "execute_result"
    }
   ],
   "source": [
    "session = Session(bind=engine)\n",
    "\n",
    "res = session.execute(select(Track).order_by(func.random()).limit(1).where(Track.columns.album_id == 1))\n",
    "res.fetchone()[1]"
   ]
  },
  {
   "cell_type": "code",
   "execution_count": 148,
   "metadata": {},
   "outputs": [],
   "source": [
    "# updating values \n",
    "\n",
    "query = update(Track).where(Track.columns.title == 'title 09').values(title = 'title 10')\n",
    "r = conn.execute(query)"
   ]
  },
  {
   "cell_type": "code",
   "execution_count": 149,
   "metadata": {},
   "outputs": [],
   "source": [
    "query = update(Track,Track.columns.id == 9,{'title':'title 9'})\n",
    "r = conn.execute(query)"
   ]
  },
  {
   "cell_type": "code",
   "execution_count": 150,
   "metadata": {},
   "outputs": [],
   "source": [
    "# deleting row from table\n",
    "\n",
    "r = conn.execute(db.delete(Track,Track.columns.id == 9))\n"
   ]
  },
  {
   "cell_type": "code",
   "execution_count": 157,
   "metadata": {},
   "outputs": [
    {
     "name": "stdout",
     "output_type": "stream",
     "text": [
      "(1,)\n",
      "(4,)\n",
      "(2,)\n",
      "(3,)\n"
     ]
    }
   ],
   "source": [
    "#distinct rows\n",
    "query = select(db.distinct(Track.columns.album_id))\n",
    "rows = Session(bind=engine).execute(query)\n",
    "\n",
    "\n",
    "for row in rows:\n",
    "    print(row)"
   ]
  },
  {
   "cell_type": "code",
   "execution_count": null,
   "metadata": {},
   "outputs": [],
   "source": [
    "\n"
   ]
  }
 ],
 "metadata": {
  "interpreter": {
   "hash": "767d51c1340bd893661ea55ea3124f6de3c7a262a8b4abca0554b478b1e2ff90"
  },
  "kernelspec": {
   "display_name": "Python 2.7.18 64-bit",
   "language": "python",
   "name": "python3"
  },
  "language_info": {
   "codemirror_mode": {
    "name": "ipython",
    "version": 3
   },
   "file_extension": ".py",
   "mimetype": "text/x-python",
   "name": "python",
   "nbconvert_exporter": "python",
   "pygments_lexer": "ipython3",
   "version": "3.9.6"
  },
  "orig_nbformat": 4
 },
 "nbformat": 4,
 "nbformat_minor": 2
}
