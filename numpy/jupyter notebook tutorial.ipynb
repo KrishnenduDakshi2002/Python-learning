{
 "cells": [
  {
   "cell_type": "markdown",
   "id": "88ced85e",
   "metadata": {},
   "source": [
    "# Welcome to jupyter and numpy tutorials3\n",
    "\n"
   ]
  },
  {
   "cell_type": "code",
   "execution_count": 2,
   "id": "9c387c2d",
   "metadata": {},
   "outputs": [
    {
     "name": "stdout",
     "output_type": "stream",
     "text": [
      "[ 3  6 61  9]\n"
     ]
    }
   ],
   "source": [
    "import numpy as np\n",
    "myarr= np.array([3,6,74544445,9],np.int8) # int8 for smaller interger, we can use int64,int32,int16\n",
    "#if we add large number when using int8 then it will through an error\n",
    "print(myarr)"
   ]
  },
  {
   "cell_type": "code",
   "execution_count": 3,
   "id": "e6ef2783",
   "metadata": {},
   "outputs": [
    {
     "name": "stdout",
     "output_type": "stream",
     "text": [
      "6\n"
     ]
    }
   ],
   "source": [
    "print(myarr[1])"
   ]
  },
  {
   "cell_type": "code",
   "execution_count": 4,
   "id": "de2b2245",
   "metadata": {},
   "outputs": [
    {
     "name": "stdout",
     "output_type": "stream",
     "text": [
      "7\n"
     ]
    }
   ],
   "source": [
    "myarr2D = np.array([[3,5,6,7]]) # it is a 2d array of 1 row and 4 column\n",
    "print(myarr2D[0,3])"
   ]
  },
  {
   "cell_type": "code",
   "execution_count": 7,
   "id": "afe52885",
   "metadata": {},
   "outputs": [
    {
     "data": {
      "text/plain": [
       "(1, 4)"
      ]
     },
     "execution_count": 7,
     "metadata": {},
     "output_type": "execute_result"
    }
   ],
   "source": [
    "myarr2D.shape\n"
   ]
  },
  {
   "cell_type": "code",
   "execution_count": 8,
   "id": "48524891",
   "metadata": {},
   "outputs": [
    {
     "data": {
      "text/plain": [
       "dtype('int8')"
      ]
     },
     "execution_count": 8,
     "metadata": {},
     "output_type": "execute_result"
    }
   ],
   "source": [
    "myarr.dtype"
   ]
  },
  {
   "cell_type": "markdown",
   "id": "1f531c37",
   "metadata": {},
   "source": [
    "# Array creation from other python structures\n"
   ]
  },
  {
   "cell_type": "code",
   "execution_count": null,
   "id": "3de0be15",
   "metadata": {},
   "outputs": [],
   "source": [
    "listarr = np.array([[1,2,4],[3,4,5]])"
   ]
  },
  {
   "cell_type": "code",
   "execution_count": 19,
   "id": "148cc1fe",
   "metadata": {},
   "outputs": [
    {
     "ename": "NameError",
     "evalue": "name 'listarr' is not defined",
     "output_type": "error",
     "traceback": [
      "\u001b[0;31m---------------------------------------------------------------------------\u001b[0m",
      "\u001b[0;31mNameError\u001b[0m                                 Traceback (most recent call last)",
      "\u001b[0;32m/var/folders/3g/q74xd6md673ff6clgv3c5cqm0000gn/T/ipykernel_9972/3466115819.py\u001b[0m in \u001b[0;36m<module>\u001b[0;34m\u001b[0m\n\u001b[0;32m----> 1\u001b[0;31m \u001b[0mprint\u001b[0m\u001b[0;34m(\u001b[0m\u001b[0mlistarr\u001b[0m\u001b[0;34m[\u001b[0m\u001b[0;36m0\u001b[0m\u001b[0;34m,\u001b[0m\u001b[0;36m1\u001b[0m\u001b[0;34m]\u001b[0m\u001b[0;34m)\u001b[0m\u001b[0;34m\u001b[0m\u001b[0;34m\u001b[0m\u001b[0m\n\u001b[0m",
      "\u001b[0;31mNameError\u001b[0m: name 'listarr' is not defined"
     ]
    }
   ],
   "source": [
    "print(listarr[0,1])"
   ]
  },
  {
   "cell_type": "code",
   "execution_count": 16,
   "id": "f6403ab9",
   "metadata": {},
   "outputs": [
    {
     "name": "stdout",
     "output_type": "stream",
     "text": [
      "3\n"
     ]
    }
   ],
   "source": [
    "print(myarr[0])"
   ]
  },
  {
   "cell_type": "code",
   "execution_count": 20,
   "id": "1725668a",
   "metadata": {},
   "outputs": [
    {
     "ename": "NameError",
     "evalue": "name 'listarr' is not defined",
     "output_type": "error",
     "traceback": [
      "\u001b[0;31m---------------------------------------------------------------------------\u001b[0m",
      "\u001b[0;31mNameError\u001b[0m                                 Traceback (most recent call last)",
      "\u001b[0;32m/var/folders/3g/q74xd6md673ff6clgv3c5cqm0000gn/T/ipykernel_9972/1515833902.py\u001b[0m in \u001b[0;36m<module>\u001b[0;34m\u001b[0m\n\u001b[0;32m----> 1\u001b[0;31m \u001b[0mprint\u001b[0m\u001b[0;34m(\u001b[0m\u001b[0mlistarr\u001b[0m\u001b[0;34m[\u001b[0m\u001b[0;36m0\u001b[0m\u001b[0;34m,\u001b[0m\u001b[0;36m2\u001b[0m\u001b[0;34m]\u001b[0m\u001b[0;34m)\u001b[0m\u001b[0;34m\u001b[0m\u001b[0;34m\u001b[0m\u001b[0m\n\u001b[0m",
      "\u001b[0;31mNameError\u001b[0m: name 'listarr' is not defined"
     ]
    }
   ],
   "source": [
    "print(listarr[0,2])"
   ]
  },
  {
   "cell_type": "code",
   "execution_count": 22,
   "id": "b2fa50c7",
   "metadata": {},
   "outputs": [],
   "source": [
    "import pandas as pd\n",
    "import numpy as np"
   ]
  },
  {
   "cell_type": "code",
   "execution_count": 21,
   "id": "a7202b14",
   "metadata": {},
   "outputs": [],
   "source": [
    "dic = {\"name\":[\"krishnendu\",\"sunny\",\"rohan\",\"rahul\",\"sriti\",\"Geeta\"],\"salary\":[1000,1001,1002,1003,1004,1005]\n",
    "       ,\"city\":['ranaghat','kolkata','beherampur','bongaon','howrah','hoogly']}"
   ]
  },
  {
   "cell_type": "code",
   "execution_count": 23,
   "id": "146d3104",
   "metadata": {},
   "outputs": [],
   "source": [
    "df = pd.DataFrame(dic)"
   ]
  },
  {
   "cell_type": "code",
   "execution_count": 24,
   "id": "1aa6bdc0",
   "metadata": {},
   "outputs": [
    {
     "data": {
      "text/html": [
       "<div>\n",
       "<style scoped>\n",
       "    .dataframe tbody tr th:only-of-type {\n",
       "        vertical-align: middle;\n",
       "    }\n",
       "\n",
       "    .dataframe tbody tr th {\n",
       "        vertical-align: top;\n",
       "    }\n",
       "\n",
       "    .dataframe thead th {\n",
       "        text-align: right;\n",
       "    }\n",
       "</style>\n",
       "<table border=\"1\" class=\"dataframe\">\n",
       "  <thead>\n",
       "    <tr style=\"text-align: right;\">\n",
       "      <th></th>\n",
       "      <th>name</th>\n",
       "      <th>salary</th>\n",
       "      <th>city</th>\n",
       "    </tr>\n",
       "  </thead>\n",
       "  <tbody>\n",
       "    <tr>\n",
       "      <th>0</th>\n",
       "      <td>krishnendu</td>\n",
       "      <td>1000</td>\n",
       "      <td>ranaghat</td>\n",
       "    </tr>\n",
       "    <tr>\n",
       "      <th>1</th>\n",
       "      <td>sunny</td>\n",
       "      <td>1001</td>\n",
       "      <td>kolkata</td>\n",
       "    </tr>\n",
       "    <tr>\n",
       "      <th>2</th>\n",
       "      <td>rohan</td>\n",
       "      <td>1002</td>\n",
       "      <td>beherampur</td>\n",
       "    </tr>\n",
       "    <tr>\n",
       "      <th>3</th>\n",
       "      <td>rahul</td>\n",
       "      <td>1003</td>\n",
       "      <td>bongaon</td>\n",
       "    </tr>\n",
       "    <tr>\n",
       "      <th>4</th>\n",
       "      <td>sriti</td>\n",
       "      <td>1004</td>\n",
       "      <td>howrah</td>\n",
       "    </tr>\n",
       "    <tr>\n",
       "      <th>5</th>\n",
       "      <td>Geeta</td>\n",
       "      <td>1005</td>\n",
       "      <td>hoogly</td>\n",
       "    </tr>\n",
       "  </tbody>\n",
       "</table>\n",
       "</div>"
      ],
      "text/plain": [
       "         name  salary        city\n",
       "0  krishnendu    1000    ranaghat\n",
       "1       sunny    1001     kolkata\n",
       "2       rohan    1002  beherampur\n",
       "3       rahul    1003     bongaon\n",
       "4       sriti    1004      howrah\n",
       "5       Geeta    1005      hoogly"
      ]
     },
     "execution_count": 24,
     "metadata": {},
     "output_type": "execute_result"
    }
   ],
   "source": [
    "df"
   ]
  },
  {
   "cell_type": "code",
   "execution_count": null,
   "id": "6643e9c1",
   "metadata": {},
   "outputs": [],
   "source": []
  }
 ],
 "metadata": {
  "kernelspec": {
   "display_name": "Python 3 (ipykernel)",
   "language": "python",
   "name": "python3"
  },
  "language_info": {
   "codemirror_mode": {
    "name": "ipython",
    "version": 3
   },
   "file_extension": ".py",
   "mimetype": "text/x-python",
   "name": "python",
   "nbconvert_exporter": "python",
   "pygments_lexer": "ipython3",
   "version": "3.9.6"
  }
 },
 "nbformat": 4,
 "nbformat_minor": 5
}
